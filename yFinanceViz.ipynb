{
 "cells": [
  {
   "cell_type": "code",
   "execution_count": null,
   "id": "77043758-77c0-4ee5-a4c0-0cf83835c522",
   "metadata": {},
   "outputs": [],
   "source": [
    "!pip install yfinance\n",
    "\n",
    "import yfinance as yf\n",
    "import pandas as pd"
   ]
  },
  {
   "cell_type": "code",
   "execution_count": null,
   "id": "9325a396-b4dd-4205-a678-8f1a6b3f52de",
   "metadata": {},
   "outputs": [],
   "source": [
    "apple= yf.Ticker(\"AAPL\")"
   ]
  },
  {
   "cell_type": "code",
   "execution_count": null,
   "id": "9a7b4b61-3021-4761-975d-9e35c54c3834",
   "metadata": {},
   "outputs": [],
   "source": [
    "apple_info= apple.info\n",
    "apple_info"
   ]
  },
  {
   "cell_type": "code",
   "execution_count": null,
   "id": "18cf1e86-1155-47b0-8881-449c998c8044",
   "metadata": {},
   "outputs": [],
   "source": [
    "apple_info[\"Country\"]"
   ]
  },
  {
   "cell_type": "code",
   "execution_count": null,
   "id": "4ac0fbec-704b-4c46-b586-5449307f8409",
   "metadata": {},
   "outputs": [],
   "source": [
    "apple_share_price_data= apple.history(period= \"max\")"
   ]
  },
  {
   "cell_type": "code",
   "execution_count": null,
   "id": "b87938fc-31eb-4381-a512-a89ecf387f5b",
   "metadata": {},
   "outputs": [],
   "source": [
    "apple_share_price_data.head()"
   ]
  },
  {
   "cell_type": "code",
   "execution_count": null,
   "id": "ee75855a-1991-4967-9825-d1a05a623660",
   "metadata": {},
   "outputs": [],
   "source": [
    "apple_share_price_data.reset_index(inplace=True)"
   ]
  },
  {
   "cell_type": "code",
   "execution_count": null,
   "id": "3af5924b-2d1d-413e-9d8d-fcc17637ae27",
   "metadata": {},
   "outputs": [],
   "source": [
    "apple_share_price_data.plot(x=\"Date\", y=\"Open\")"
   ]
  },
  {
   "cell_type": "code",
   "execution_count": null,
   "id": "6f55ccd8-7d9a-4e33-9294-a9c5b1a6102a",
   "metadata": {},
   "outputs": [],
   "source": [
    "apple.dividends.plot()"
   ]
  },
  {
   "cell_type": "code",
   "execution_count": null,
   "id": "13f806e0-6884-4c86-84d7-4759b9983e1b",
   "metadata": {},
   "outputs": [],
   "source": [
    "amd= yf.Ticker(\"AMD\")"
   ]
  },
  {
   "cell_type": "code",
   "execution_count": null,
   "id": "ccd66d2c-ca6d-4c42-9704-2d8121314e7e",
   "metadata": {},
   "outputs": [],
   "source": [
    "amd_info= amd.info\n",
    "amd_info"
   ]
  },
  {
   "cell_type": "code",
   "execution_count": null,
   "id": "eae3d4fa-9829-448f-b296-3962675cf6a7",
   "metadata": {},
   "outputs": [],
   "source": [
    "amd_info.get(\"country\")"
   ]
  },
  {
   "cell_type": "code",
   "execution_count": null,
   "id": "25fea6fe-aa4e-406f-84b1-4c899a7d90dd",
   "metadata": {},
   "outputs": [],
   "source": [
    "amd_info.get('sector')"
   ]
  },
  {
   "cell_type": "code",
   "execution_count": null,
   "id": "5a956e71-27ca-40a7-a2bd-aaa66aaf59ae",
   "metadata": {},
   "outputs": [],
   "source": [
    "amd_share_price_data= amd.history(period= \"max\")"
   ]
  },
  {
   "cell_type": "code",
   "execution_count": null,
   "id": "70a10fdf-3932-4df8-ae23-edcf5a58ef2a",
   "metadata": {},
   "outputs": [],
   "source": [
    "amd_share_price_data.head()"
   ]
  },
  {
   "cell_type": "code",
   "execution_count": null,
   "id": "f23bc418-38bf-467f-b0ee-864f190be0c6",
   "metadata": {},
   "outputs": [],
   "source": [
    "amd_share_price_data.get(\"Volume\", 0)"
   ]
  },
  {
   "cell_type": "code",
   "execution_count": null,
   "id": "998ed6da-7c29-419b-88d3-fb1c07b36604",
   "metadata": {},
   "outputs": [],
   "source": [
    "amd_share_price_data.reset_index(inplace=True)"
   ]
  },
  {
   "cell_type": "code",
   "execution_count": null,
   "id": "a389d2fb-b14a-499d-bf70-8be818bd604e",
   "metadata": {},
   "outputs": [],
   "source": [
    "amd_share_price_data.plot(x=\"Date\", y=\"\")"
   ]
  }
 ],
 "metadata": {
  "kernelspec": {
   "display_name": "Python",
   "language": "python",
   "name": "conda-env-python-py"
  },
  "language_info": {
   "codemirror_mode": {
    "name": "ipython",
    "version": 3
   },
   "file_extension": ".py",
   "mimetype": "text/x-python",
   "name": "python",
   "nbconvert_exporter": "python",
   "pygments_lexer": "ipython3",
   "version": "3.6.13"
  }
 },
 "nbformat": 4,
 "nbformat_minor": 5
}
